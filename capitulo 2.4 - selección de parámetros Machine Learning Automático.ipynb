{
 "cells": [
  {
   "cell_type": "code",
   "execution_count": 1,
   "metadata": {},
   "outputs": [],
   "source": [
    "import pandas as pd\n",
    "from sklearn import linear_model\n",
    "from sklearn.neural_network import MLPRegressor\n",
    "from sklearn.preprocessing import StandardScaler\n",
    "from sklearn.model_selection import GridSearchCV\n",
    "from sklearn.model_selection import train_test_split\n",
    "from sklearn.metrics import r2_score"
   ]
  },
  {
   "cell_type": "code",
   "execution_count": 2,
   "metadata": {},
   "outputs": [],
   "source": [
    "data = pd.read_csv(\"base_datos_2008.csv\")"
   ]
  },
  {
   "cell_type": "code",
   "execution_count": 3,
   "metadata": {},
   "outputs": [],
   "source": [
    "df = data.dropna(subset = [\"AirTime\", \"Distance\", \"TaxiIn\", \"TaxiOut\", \"DepDelay\"])\n",
    "df = df.sample(frac = 1).head(1000) #Selección aleatoria\n",
    "\n",
    "\n",
    "X = df[[\"AirTime\", \"Distance\", \"TaxiIn\", \"TaxiOut\", \"DepDelay\"]]\n",
    "Y = df['ArrDelay']\n",
    "\n",
    "X_train, X_test, y_train, y_test = train_test_split(X, Y, test_size = .2, random_state = 1)\n",
    "\n",
    "scaler = StandardScaler()\n",
    "scaler.fit(X_train)\n",
    "\n",
    "X_train = scaler.transform(X_train)\n",
    "X_test = scaler.transform(X_test)"
   ]
  },
  {
   "cell_type": "code",
   "execution_count": 6,
   "metadata": {},
   "outputs": [
    {
     "data": {
      "text/plain": [
       "GridSearchCV(cv=5, estimator=MLPRegressor(max_iter=10000, warm_start=True),\n",
       "             n_jobs=-1,\n",
       "             param_grid={'alpha': [1e-06, 0.0001, 0.01, 0.1],\n",
       "                         'hidden_layer_sizes': [5, 10, 50, 100],\n",
       "                         'solver': ['lbfgs', 'adam']})"
      ]
     },
     "execution_count": 6,
     "metadata": {},
     "output_type": "execute_result"
    }
   ],
   "source": [
    "parametros = {\n",
    "    \"alpha\" : [0.000001, 0.0001, 0.01, 0.1],\n",
    "    \"hidden_layer_sizes\" : [5, 10, 50, 100],\n",
    "    \"solver\" : [\"lbfgs\", \"adam\"]\n",
    "}\n",
    "nn = MLPRegressor(warm_start=True, max_iter = 10000)\n",
    "clf = GridSearchCV(nn, parametros, cv=5, n_jobs = -1)\n",
    "clf.fit(X, Y)"
   ]
  },
  {
   "cell_type": "code",
   "execution_count": 7,
   "metadata": {},
   "outputs": [
    {
     "name": "stdout",
     "output_type": "stream",
     "text": [
      "{'alpha': 0.01, 'hidden_layer_sizes': 5, 'solver': 'lbfgs'}\n"
     ]
    }
   ],
   "source": [
    "print(clf.best_params_)"
   ]
  },
  {
   "cell_type": "code",
   "execution_count": null,
   "metadata": {},
   "outputs": [],
   "source": []
  }
 ],
 "metadata": {
  "kernelspec": {
   "display_name": "Python 3",
   "language": "python",
   "name": "python3"
  },
  "language_info": {
   "codemirror_mode": {
    "name": "ipython",
    "version": 3
   },
   "file_extension": ".py",
   "mimetype": "text/x-python",
   "name": "python",
   "nbconvert_exporter": "python",
   "pygments_lexer": "ipython3",
   "version": "3.8.5"
  }
 },
 "nbformat": 4,
 "nbformat_minor": 4
}
