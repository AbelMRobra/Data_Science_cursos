{
 "cells": [
  {
   "cell_type": "markdown",
   "metadata": {},
   "source": [
    "## Procesamiento del lenguaje natural\n",
    "En este ejemplo breve relizamos:\n",
    "\n",
    "* Text mining simple eliminando aquellas palabras que no sean letras o numeros\n",
    "* Realizamos un conteo de palabras agrupadas por expresiones de 2 palabras\n",
    "* Entrenamos un modelo y lo ponemos a prueba"
   ]
  },
  {
   "cell_type": "code",
   "execution_count": 2,
   "metadata": {},
   "outputs": [],
   "source": [
    "from sklearn.feature_extraction.text import CountVectorizer\n",
    "from nltk.tokenize import RegexpTokenizer\n",
    "import pandas as pd"
   ]
  },
  {
   "cell_type": "code",
   "execution_count": 21,
   "metadata": {},
   "outputs": [],
   "source": [
    "lista1 = ['Bueno', 'Malo', 'Malo', 'Malo', 'Bueno', 'Bueno', 'Malo', 'Bueno', 'Bueno', 'Malo' ]\n",
    "lista2 = [\"Lo recomendaria a todos mis amigos\",\n",
    "         \"Es el peor producto que he comprado nunca\",\n",
    "         \"Ni loco compraria este producto\",\n",
    "         \"No se lo recomendaria ni a mi enemigo\",\n",
    "         \"Es un buen producto, si lo recomendaria\",\n",
    "         \"Me ha encantado\",\n",
    "         \"Es una basura absoluta, ni me moleste en lavarlo, lo tire directamente\",\n",
    "         \"El enemigo publico numero uno de la suciedad\",\n",
    "         \"Es un producto genial, se lo recomendaria a todos los compradores\",\n",
    "         \"Hay que estar loco para comprar esta cosa\"]"
   ]
  },
  {
   "cell_type": "code",
   "execution_count": 22,
   "metadata": {},
   "outputs": [],
   "source": [
    "df = pd.DataFrame({'Critica': lista1, 'Valoracion': lista2})"
   ]
  },
  {
   "cell_type": "code",
   "execution_count": 23,
   "metadata": {},
   "outputs": [],
   "source": [
    "token = RegexpTokenizer(r'[a-zA-Z0-9]+')\n",
    "cv = CountVectorizer(lowercase = True, ngram_range  =(1,2), tokenizer=token.tokenize)\n",
    "text_count = cv.fit_transform(df['Valoracion'])"
   ]
  },
  {
   "cell_type": "code",
   "execution_count": 38,
   "metadata": {},
   "outputs": [],
   "source": [
    "from sklearn.model_selection import train_test_split\n",
    "\n",
    "X_train, X_test, y_train, y_test = train_test_split(text_count, df['Critica'], test_size = 0.6, random_state = 1)"
   ]
  },
  {
   "cell_type": "code",
   "execution_count": 39,
   "metadata": {},
   "outputs": [],
   "source": [
    "from sklearn.naive_bayes import MultinomialNB\n",
    "from sklearn import metrics"
   ]
  },
  {
   "cell_type": "code",
   "execution_count": 40,
   "metadata": {},
   "outputs": [
    {
     "name": "stdout",
     "output_type": "stream",
     "text": [
      "MultinomiaNB Accuracy: 0.8333333333333334\n"
     ]
    }
   ],
   "source": [
    "clf = MultinomialNB().fit(X_train, y_train)\n",
    "predicted = clf.predict(X_test)\n",
    "\n",
    "print(\"MultinomiaNB Accuracy:\", metrics.accuracy_score(y_test, predicted))"
   ]
  },
  {
   "cell_type": "code",
   "execution_count": 41,
   "metadata": {},
   "outputs": [
    {
     "data": {
      "text/plain": [
       "array(['Malo', 'Malo', 'Malo', 'Bueno', 'Bueno', 'Bueno'], dtype='<U5')"
      ]
     },
     "execution_count": 41,
     "metadata": {},
     "output_type": "execute_result"
    }
   ],
   "source": [
    "predicted"
   ]
  }
 ],
 "metadata": {
  "kernelspec": {
   "display_name": "Python 3",
   "language": "python",
   "name": "python3"
  },
  "language_info": {
   "codemirror_mode": {
    "name": "ipython",
    "version": 3
   },
   "file_extension": ".py",
   "mimetype": "text/x-python",
   "name": "python",
   "nbconvert_exporter": "python",
   "pygments_lexer": "ipython3",
   "version": "3.8.5"
  }
 },
 "nbformat": 4,
 "nbformat_minor": 4
}
