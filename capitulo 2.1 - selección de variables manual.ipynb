{
 "cells": [
  {
   "cell_type": "code",
   "execution_count": 14,
   "metadata": {},
   "outputs": [],
   "source": [
    "import pandas as pd\n",
    "import numpy as np\n",
    "\n",
    "import statsmodels.api as sm\n",
    "from sklearn import linear_model\n"
   ]
  },
  {
   "cell_type": "code",
   "execution_count": 15,
   "metadata": {},
   "outputs": [],
   "source": [
    "data = pd.read_csv(\"base_datos_2008.csv\")"
   ]
  },
  {
   "cell_type": "code",
   "execution_count": 22,
   "metadata": {},
   "outputs": [],
   "source": [
    "df = data.dropna(subset = [\"ArrDelay\", \"Distance\", \"TaxiIn\", \"TaxiOut\", \"DayOfWeek\", \"DayofMonth\"])\n",
    "df = df.sample(frac = 1).head(1000) #Selección aleatoria\n",
    "\n",
    "\n",
    "X = df[[\"ArrDelay\", \"Distance\", \"TaxiIn\", \"TaxiOut\", \"DayOfWeek\", \"DayofMonth\"]]\n",
    "Y = df['ArrDelay']"
   ]
  },
  {
   "cell_type": "code",
   "execution_count": 23,
   "metadata": {},
   "outputs": [],
   "source": [
    "regr = linear_model.LinearRegression()\n",
    "regr.fit(X, Y)\n",
    "predicciones = regr.predict(X)"
   ]
  },
  {
   "cell_type": "code",
   "execution_count": 24,
   "metadata": {},
   "outputs": [
    {
     "name": "stdout",
     "output_type": "stream",
     "text": [
      "                            OLS Regression Results                            \n",
      "==============================================================================\n",
      "Dep. Variable:               ArrDelay   R-squared:                       1.000\n",
      "Model:                            OLS   Adj. R-squared:                  1.000\n",
      "Method:                 Least Squares   F-statistic:                 4.608e+31\n",
      "Date:                Fri, 27 Aug 2021   Prob (F-statistic):               0.00\n",
      "Time:                        07:07:31   Log-Likelihood:                 28967.\n",
      "No. Observations:                1000   AIC:                        -5.792e+04\n",
      "Df Residuals:                     993   BIC:                        -5.789e+04\n",
      "Df Model:                           6                                         \n",
      "Covariance Type:            nonrobust                                         \n",
      "==============================================================================\n",
      "                 coef    std err          t      P>|t|      [0.025      0.975]\n",
      "------------------------------------------------------------------------------\n",
      "const       3.464e-14   7.55e-15      4.587      0.000    1.98e-14    4.95e-14\n",
      "ArrDelay       1.0000   6.42e-17   1.56e+16      0.000       1.000       1.000\n",
      "Distance   -2.645e-17   3.64e-18     -7.275      0.000   -3.36e-17   -1.93e-17\n",
      "TaxiIn     -5.551e-16   4.41e-16     -1.258      0.209   -1.42e-15    3.11e-16\n",
      "TaxiOut    -1.214e-15   1.87e-16     -6.486      0.000   -1.58e-15   -8.47e-16\n",
      "DayOfWeek  -7.772e-16   1.03e-15     -0.757      0.449   -2.79e-15    1.24e-15\n",
      "DayofMonth          0   2.35e-16          0      1.000   -4.61e-16    4.61e-16\n",
      "==============================================================================\n",
      "Omnibus:                      567.772   Durbin-Watson:                   1.817\n",
      "Prob(Omnibus):                  0.000   Jarque-Bera (JB):             4820.065\n",
      "Skew:                           2.511   Prob(JB):                         0.00\n",
      "Kurtosis:                      12.511   Cond. No.                     3.47e+03\n",
      "==============================================================================\n",
      "\n",
      "Notes:\n",
      "[1] Standard Errors assume that the covariance matrix of the errors is correctly specified.\n",
      "[2] The condition number is large, 3.47e+03. This might indicate that there are\n",
      "strong multicollinearity or other numerical problems.\n"
     ]
    }
   ],
   "source": [
    "X2 = sm.add_constant(X)\n",
    "est = sm.OLS(Y, X2)\n",
    "est2 = est.fit()\n",
    "print(est2.summary())"
   ]
  },
  {
   "cell_type": "markdown",
   "metadata": {},
   "source": [
    "Este modelo estadistico sirve para identificar que variable puede ser util para el modelo, normalmente si esta arriba por 0.5 no es relevante"
   ]
  },
  {
   "cell_type": "code",
   "execution_count": null,
   "metadata": {},
   "outputs": [],
   "source": []
  }
 ],
 "metadata": {
  "kernelspec": {
   "display_name": "Python 3",
   "language": "python",
   "name": "python3"
  },
  "language_info": {
   "codemirror_mode": {
    "name": "ipython",
    "version": 3
   },
   "file_extension": ".py",
   "mimetype": "text/x-python",
   "name": "python",
   "nbconvert_exporter": "python",
   "pygments_lexer": "ipython3",
   "version": "3.8.5"
  }
 },
 "nbformat": 4,
 "nbformat_minor": 4
}
