{
 "cells": [
  {
   "cell_type": "code",
   "execution_count": 36,
   "metadata": {},
   "outputs": [],
   "source": [
    "import nltk\n",
    "import string\n",
    "\n",
    "from nltk.tokenize import sent_tokenize, word_tokenize\n",
    "from nltk.probability import FreqDist\n",
    "from nltk.corpus import stopwords\n",
    "from nltk.stem import SnowballStemmer\n"
   ]
  },
  {
   "cell_type": "code",
   "execution_count": 28,
   "metadata": {},
   "outputs": [],
   "source": [
    "texto = open(\"explica.txt\", 'r', encoding=\"utf8\").read()"
   ]
  },
  {
   "cell_type": "code",
   "execution_count": 37,
   "metadata": {},
   "outputs": [
    {
     "name": "stdout",
     "output_type": "stream",
     "text": [
      "[(',', 9), ('y', 5), ('.', 4), ('de', 4), ('cuentos', 3), ('nos', 3), ('los', 2), ('a', 2), ('como', 2), ('A', 1)]\n"
     ]
    }
   ],
   "source": [
    "frases = sent_tokenize(texto)\n",
    "palabras = word_tokenize(texto)\n",
    "fidst = FreqDist(palabras)\n",
    "print(fidst.most_common(10))"
   ]
  },
  {
   "cell_type": "code",
   "execution_count": 39,
   "metadata": {},
   "outputs": [
    {
     "name": "stdout",
     "output_type": "stream",
     "text": [
      "[('cuentos', 3), ('niños', 1), ('encantan', 1), ('sorprendernos', 1), ('transportan', 1), ('mundos', 1), ('mágicos', 1), ('producen', 1), ('emociones', 1), ('alegría', 1)]\n"
     ]
    }
   ],
   "source": [
    "stop_words= stopwords.words(\"spanish\")\n",
    "palabras2 = [x for x in palabras if x.lower() not in stop_words + list(string.punctuation)]\n",
    "fidst = FreqDist(palabras2)\n",
    "print(fidst.most_common(10))"
   ]
  },
  {
   "cell_type": "code",
   "execution_count": 40,
   "metadata": {},
   "outputs": [],
   "source": [
    "stemmer = SnowballStemmer(\"spanish\")"
   ]
  },
  {
   "cell_type": "code",
   "execution_count": 45,
   "metadata": {},
   "outputs": [],
   "source": [
    "raices = [ stemmer.stem(palabra) for palabra in palabras2]"
   ]
  },
  {
   "cell_type": "code",
   "execution_count": 46,
   "metadata": {},
   "outputs": [
    {
     "name": "stdout",
     "output_type": "stream",
     "text": [
      "[('cuent', 3), ('mund', 2), ('asi', 2), ('niñ', 1), ('encant', 1), ('sorprend', 1), ('transport', 1), ('magic', 1), ('produc', 1), ('emocion', 1)]\n"
     ]
    }
   ],
   "source": [
    "print(FreqDist(raices).most_common(10))"
   ]
  },
  {
   "cell_type": "code",
   "execution_count": null,
   "metadata": {},
   "outputs": [],
   "source": []
  }
 ],
 "metadata": {
  "kernelspec": {
   "display_name": "Python 3",
   "language": "python",
   "name": "python3"
  },
  "language_info": {
   "codemirror_mode": {
    "name": "ipython",
    "version": 3
   },
   "file_extension": ".py",
   "mimetype": "text/x-python",
   "name": "python",
   "nbconvert_exporter": "python",
   "pygments_lexer": "ipython3",
   "version": "3.8.5"
  }
 },
 "nbformat": 4,
 "nbformat_minor": 4
}
