{
 "cells": [
  {
   "cell_type": "code",
   "execution_count": 1,
   "metadata": {},
   "outputs": [],
   "source": [
    "import pandas as pd\n",
    "from sklearn import linear_model\n",
    "from sklearn.neural_network import MLPRegressor\n",
    "from sklearn.preprocessing import StandardScaler\n",
    "\n",
    "from sklearn.model_selection import train_test_split\n",
    "from sklearn.metrics import r2_score"
   ]
  },
  {
   "cell_type": "code",
   "execution_count": 2,
   "metadata": {},
   "outputs": [],
   "source": [
    "data = pd.read_csv(\"base_datos_2008.csv\")"
   ]
  },
  {
   "cell_type": "code",
   "execution_count": 3,
   "metadata": {},
   "outputs": [],
   "source": [
    "df = data.dropna(subset = [\"AirTime\", \"Distance\", \"TaxiIn\", \"TaxiOut\", \"DepDelay\"])\n",
    "df = df.sample(frac = 1).head(1000) #Selección aleatoria\n",
    "\n",
    "\n",
    "X = df[[\"AirTime\", \"Distance\", \"TaxiIn\", \"TaxiOut\", \"DepDelay\"]]\n",
    "Y = df['ArrDelay']\n",
    "\n",
    "X_train, X_test, y_train, y_test = train_test_split(X, Y, test_size = .2, random_state = 1)\n",
    "\n",
    "scaler = StandardScaler()\n",
    "scaler.fit(X_train)\n",
    "\n",
    "X_train = scaler.transform(X_train)\n",
    "X_test = scaler.transform(X_test)"
   ]
  },
  {
   "cell_type": "code",
   "execution_count": 5,
   "metadata": {},
   "outputs": [],
   "source": [
    "alphas = [0.000001, 0.0001, 0.01, 0.1]\n",
    "layers = [5, 10, 50, 100]\n",
    "solvers = [\"lbfgs\", \"adam\"]"
   ]
  },
  {
   "cell_type": "code",
   "execution_count": 6,
   "metadata": {},
   "outputs": [
    {
     "name": "stdout",
     "output_type": "stream",
     "text": [
      "32\n"
     ]
    }
   ],
   "source": [
    "print(len(alphas)*len(layers)*len(solvers))"
   ]
  },
  {
   "cell_type": "code",
   "execution_count": 8,
   "metadata": {},
   "outputs": [
    {
     "name": "stdout",
     "output_type": "stream",
     "text": [
      "R cudrado: 0.9589846081455329, solver: lbfgs, layer: 5, alpha: 1e-06\n",
      "R cudrado: 0.9559712812860004, solver: adam, layer: 5, alpha: 1e-06\n",
      "R cudrado: 0.9561955830642649, solver: lbfgs, layer: 10, alpha: 1e-06\n",
      "R cudrado: 0.95510769534202, solver: adam, layer: 10, alpha: 1e-06\n",
      "R cudrado: 0.9015584387082709, solver: lbfgs, layer: 50, alpha: 1e-06\n",
      "R cudrado: 0.9557596694909145, solver: adam, layer: 50, alpha: 1e-06\n"
     ]
    },
    {
     "name": "stderr",
     "output_type": "stream",
     "text": [
      "C:\\Users\\Abel_\\Anaconda3\\lib\\site-packages\\sklearn\\neural_network\\_multilayer_perceptron.py:471: ConvergenceWarning: lbfgs failed to converge (status=1):\n",
      "STOP: TOTAL NO. of ITERATIONS REACHED LIMIT.\n",
      "\n",
      "Increase the number of iterations (max_iter) or scale the data as shown in:\n",
      "    https://scikit-learn.org/stable/modules/preprocessing.html\n",
      "  self.n_iter_ = _check_optimize_result(\"lbfgs\", opt_res, self.max_iter)\n"
     ]
    },
    {
     "name": "stdout",
     "output_type": "stream",
     "text": [
      "R cudrado: 0.7688768033560768, solver: lbfgs, layer: 100, alpha: 1e-06\n",
      "R cudrado: 0.9559659016341664, solver: adam, layer: 100, alpha: 1e-06\n",
      "R cudrado: 0.9520787579640685, solver: lbfgs, layer: 5, alpha: 0.0001\n",
      "R cudrado: 0.954812234850343, solver: adam, layer: 5, alpha: 0.0001\n",
      "R cudrado: 0.9524159486409509, solver: lbfgs, layer: 10, alpha: 0.0001\n",
      "R cudrado: 0.9487478996588606, solver: adam, layer: 10, alpha: 0.0001\n",
      "R cudrado: 0.9317646488574319, solver: lbfgs, layer: 50, alpha: 0.0001\n",
      "R cudrado: 0.950232982144431, solver: adam, layer: 50, alpha: 0.0001\n",
      "R cudrado: 0.8803112348834957, solver: lbfgs, layer: 100, alpha: 0.0001\n",
      "R cudrado: 0.9561687844319295, solver: adam, layer: 100, alpha: 0.0001\n",
      "R cudrado: 0.9583043903401113, solver: lbfgs, layer: 5, alpha: 0.01\n",
      "R cudrado: 0.9551286585483245, solver: adam, layer: 5, alpha: 0.01\n",
      "R cudrado: 0.9192215267204478, solver: lbfgs, layer: 10, alpha: 0.01\n",
      "R cudrado: 0.9494055856266304, solver: adam, layer: 10, alpha: 0.01\n",
      "R cudrado: 0.8987267632314807, solver: lbfgs, layer: 50, alpha: 0.01\n",
      "R cudrado: 0.9513863071048156, solver: adam, layer: 50, alpha: 0.01\n"
     ]
    },
    {
     "name": "stderr",
     "output_type": "stream",
     "text": [
      "C:\\Users\\Abel_\\Anaconda3\\lib\\site-packages\\sklearn\\neural_network\\_multilayer_perceptron.py:471: ConvergenceWarning: lbfgs failed to converge (status=1):\n",
      "STOP: TOTAL NO. of ITERATIONS REACHED LIMIT.\n",
      "\n",
      "Increase the number of iterations (max_iter) or scale the data as shown in:\n",
      "    https://scikit-learn.org/stable/modules/preprocessing.html\n",
      "  self.n_iter_ = _check_optimize_result(\"lbfgs\", opt_res, self.max_iter)\n"
     ]
    },
    {
     "name": "stdout",
     "output_type": "stream",
     "text": [
      "R cudrado: 0.8275949621011168, solver: lbfgs, layer: 100, alpha: 0.01\n",
      "R cudrado: 0.9558207726093388, solver: adam, layer: 100, alpha: 0.01\n",
      "R cudrado: 0.9560516116224324, solver: lbfgs, layer: 5, alpha: 0.1\n",
      "R cudrado: 0.9475043142961654, solver: adam, layer: 5, alpha: 0.1\n",
      "R cudrado: 0.9532482871790678, solver: lbfgs, layer: 10, alpha: 0.1\n",
      "R cudrado: 0.9501597829842695, solver: adam, layer: 10, alpha: 0.1\n",
      "R cudrado: 0.919259755972201, solver: lbfgs, layer: 50, alpha: 0.1\n",
      "R cudrado: 0.9545387021943861, solver: adam, layer: 50, alpha: 0.1\n"
     ]
    },
    {
     "name": "stderr",
     "output_type": "stream",
     "text": [
      "C:\\Users\\Abel_\\Anaconda3\\lib\\site-packages\\sklearn\\neural_network\\_multilayer_perceptron.py:471: ConvergenceWarning: lbfgs failed to converge (status=1):\n",
      "STOP: TOTAL NO. of ITERATIONS REACHED LIMIT.\n",
      "\n",
      "Increase the number of iterations (max_iter) or scale the data as shown in:\n",
      "    https://scikit-learn.org/stable/modules/preprocessing.html\n",
      "  self.n_iter_ = _check_optimize_result(\"lbfgs\", opt_res, self.max_iter)\n"
     ]
    },
    {
     "name": "stdout",
     "output_type": "stream",
     "text": [
      "R cudrado: 0.7996917165426681, solver: lbfgs, layer: 100, alpha: 0.1\n",
      "R cudrado: 0.9534817524732961, solver: adam, layer: 100, alpha: 0.1\n"
     ]
    }
   ],
   "source": [
    "for alpha in alphas:\n",
    "    for layer in layers:\n",
    "        for solver in solvers:\n",
    "            clf = MLPRegressor(solver = solver, alpha = alpha, hidden_layer_sizes=(layer,),\n",
    "                              warm_start=True, max_iter = 10000)\n",
    "            model = clf.fit(X_train, y_train)\n",
    "            predictions = model.predict(X_test)\n",
    "            print(f\"R cudrado: {r2_score(y_test, predictions)}, solver: {solver}, layer: {layer}, alpha: {alpha}\")"
   ]
  },
  {
   "cell_type": "code",
   "execution_count": null,
   "metadata": {},
   "outputs": [],
   "source": []
  },
  {
   "cell_type": "code",
   "execution_count": null,
   "metadata": {},
   "outputs": [],
   "source": []
  },
  {
   "cell_type": "code",
   "execution_count": null,
   "metadata": {},
   "outputs": [],
   "source": []
  }
 ],
 "metadata": {
  "kernelspec": {
   "display_name": "Python 3",
   "language": "python",
   "name": "python3"
  },
  "language_info": {
   "codemirror_mode": {
    "name": "ipython",
    "version": 3
   },
   "file_extension": ".py",
   "mimetype": "text/x-python",
   "name": "python",
   "nbconvert_exporter": "python",
   "pygments_lexer": "ipython3",
   "version": "3.8.5"
  }
 },
 "nbformat": 4,
 "nbformat_minor": 4
}
